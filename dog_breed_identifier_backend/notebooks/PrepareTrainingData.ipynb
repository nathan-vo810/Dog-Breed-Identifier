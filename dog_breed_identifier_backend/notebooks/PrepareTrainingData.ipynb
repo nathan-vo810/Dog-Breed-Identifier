{
 "cells": [
  {
   "cell_type": "code",
   "execution_count": 1,
   "metadata": {},
   "outputs": [
    {
     "data": {
      "text/plain": [
       "'\\nDownload and unzip dataset from https://www.kaggle.com/c/dog-breed-identification/data?select=labels.csv\\n'"
      ]
     },
     "execution_count": 1,
     "metadata": {},
     "output_type": "execute_result"
    }
   ],
   "source": [
    "'''\n",
    "Download and unzip dataset from https://www.kaggle.com/c/dog-breed-identification/data?select=labels.csv\n",
    "'''"
   ]
  },
  {
   "cell_type": "code",
   "execution_count": 2,
   "metadata": {},
   "outputs": [],
   "source": [
    "import pandas as pd\n",
    "from os import listdir, makedirs, rename\n",
    "from os.path import join, exists"
   ]
  },
  {
   "cell_type": "code",
   "execution_count": 3,
   "metadata": {
    "scrolled": true
   },
   "outputs": [
    {
     "name": "stdout",
     "output_type": "stream",
     "text": [
      "Number of training samples:  10222 10222\n",
      "Number of testing samples:  10357 10357\n"
     ]
    }
   ],
   "source": [
    "NUM_CLASSES = 120\n",
    "data_dir = './dataset/'\n",
    "labels = pd.read_csv(join(data_dir, 'labels.csv'))\n",
    "sample_submission = pd.read_csv(join(data_dir, 'sample_submission.csv'))\n",
    "print(\"Number of training samples: \",len(listdir(join(data_dir, 'train'))), len(labels))\n",
    "print(\"Number of testing samples: \",len(listdir(join(data_dir, 'test'))), len(sample_submission))"
   ]
  },
  {
   "cell_type": "code",
   "execution_count": 4,
   "metadata": {
    "scrolled": true
   },
   "outputs": [
    {
     "name": "stdout",
     "output_type": "stream",
     "text": [
      "(8178, 2) (2044, 2)\n"
     ]
    }
   ],
   "source": [
    "# Split train and val\n",
    "\n",
    "train = labels.sample(frac=0.8)\n",
    "valid = labels[~labels['id'].isin(train['id'])]\n",
    "print(train.shape, valid.shape)"
   ]
  },
  {
   "cell_type": "code",
   "execution_count": 8,
   "metadata": {
    "scrolled": true
   },
   "outputs": [],
   "source": [
    "# Create breed dirs\n",
    "\n",
    "breeds = list(labels.groupby('breed').groups.keys())\n",
    "for breed in breeds:\n",
    "    breed_dir_train = join(data_dir, \"train\", breed)\n",
    "    breed_dir_valid = join(data_dir, \"valid\", breed)\n",
    "    if not exists(breed_dir_train):\n",
    "        makedirs(breed_dir_train)\n",
    "    if not exists(breed_dir_valid):\n",
    "        makedirs(breed_dir_valid)"
   ]
  },
  {
   "cell_type": "code",
   "execution_count": 9,
   "metadata": {},
   "outputs": [],
   "source": [
    "# Copy images to train dir\n",
    "\n",
    "for index, row in train.iterrows():\n",
    "    image_name = row['id'] + '.jpg'\n",
    "    image_label = row['breed']\n",
    "    breed_dir_train = join(data_dir, \"train\", image_label)\n",
    "    rename(join(data_dir, \"train\", image_name), join(breed_dir_train, image_name))"
   ]
  },
  {
   "cell_type": "code",
   "execution_count": 10,
   "metadata": {},
   "outputs": [],
   "source": [
    "# Copy images to valid dir\n",
    "\n",
    "for index, row in valid.iterrows():\n",
    "    image_name = row['id'] + '.jpg'\n",
    "    image_label = row['breed']\n",
    "    breed_dir_train = join(data_dir, \"valid\", image_label)\n",
    "    rename(join(data_dir, \"train\", image_name), join(breed_dir_train, image_name))"
   ]
  }
 ],
 "metadata": {
  "kernelspec": {
   "display_name": "Python 3",
   "language": "python",
   "name": "python3"
  },
  "language_info": {
   "codemirror_mode": {
    "name": "ipython",
    "version": 3
   },
   "file_extension": ".py",
   "mimetype": "text/x-python",
   "name": "python",
   "nbconvert_exporter": "python",
   "pygments_lexer": "ipython3",
   "version": "3.7.9"
  }
 },
 "nbformat": 4,
 "nbformat_minor": 4
}
